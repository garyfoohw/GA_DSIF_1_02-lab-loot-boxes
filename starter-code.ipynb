{
 "cells": [
  {
   "cell_type": "markdown",
   "metadata": {},
   "source": [
    "# \"Fun with Loot Boxes\" Lab\n",
    "\n",
    "> Author: Caroline Schmitt, Matt Brems\n",
    "\n",
    "### Scenario:\n",
    "\n",
    "You're an analyst for [Zynga](https://en.wikipedia.org/wiki/Zynga), a gaming studio working on an event for an MMO (massively multiplayer online) game. This event is going to include **loot boxes**.\n",
    "\n",
    "<img src=\"https://vignette.wikia.nocookie.net/2007scape/images/0/06/Culinaromancer%27s_chest.png/revision/latest?cb=20180403231423\" alt=\"drawing\" width=\"150\"/> \n",
    "\n",
    "A loot box is basically a treasure chest in a game. This loot box can be opened to reveal a variety of items: some items are very rare and valuable, other items are common and less valuable. (You may consult [the esteemed Wikipedia](https://en.wikipedia.org/wiki/Loot_box) for a more extensive definition.)\n",
    "\n",
    "In our specific game, suppose that loot boxes can be obtained in one of two ways: \n",
    "- After every three hours of playing the game, a user will earn one loot box.\n",
    "- If the user wishes to purchase a loot box, they may pay $1 (in real money!) for a loot box.\n",
    "\n",
    "These loot boxes are very good for our business!\n",
    "- If a player earns a loot box, it means they are spending lots of time on the game. This often leads to advertisement revenue, they may tell their friends to join the game, etc.\n",
    "- If the player purchases a loot box, it means we've earned $1 from our customer.\n",
    "\n",
    "Suppose each loot box is opened to reveal either:\n",
    "- magical elixir (super rare, very valuable), or\n",
    "- nothing.\n",
    "\n",
    "Whether each loot box contains the elixir or nothing is **random**. Our boss wants some guidance on what sort of randomness to use on these loot boxes! \n",
    "- If the magical elixir is too rare, then users may not be motivated to try to get them, because they believe they'll never find the magical elixir.\n",
    "- If the magical elixir is too common, then users may not be motivated to try to get them, because the game has so much of the magical elixir that it isn't worthwhile to try to get it.\n",
    "\n",
    "However, our boss isn't a math-y type person! When explaining things to our boss, we need to explain the impact of our choices on the game as concretely as possible.\n",
    "\n",
    "### Version 1\n",
    "In our first version of the game, we'll say that loot boxes contain magical elixir 15% of the time and nothing 85% of the time.\n",
    "\n",
    "#### 1. Our boss asks, \"If a user buys 100 loot boxes, how many elixirs will they get?\" How would you respond?"
   ]
  },
  {
   "cell_type": "markdown",
   "metadata": {},
   "source": [
    "15"
   ]
  },
  {
   "cell_type": "markdown",
   "metadata": {},
   "source": [
    "#### 2. Our boss asks, \"How many loot boxes does someone have to purchase in order to definitely get elixir?\" How would you respond?"
   ]
  },
  {
   "cell_type": "markdown",
   "metadata": {},
   "source": [
    "The word <i>definitely</i> makes the question hard to answer.<br>Theoretically, it will be infinite number of loot boxes.<br>In reality, it we can look for the 99.9th percentile and use that as a proxy for 100% of the population."
   ]
  },
  {
   "cell_type": "code",
   "execution_count": 1,
   "metadata": {},
   "outputs": [
    {
     "name": "stdout",
     "output_type": "stream",
     "text": [
      "Minimum loot boxes required at 99.9th percentile: 44\n"
     ]
    }
   ],
   "source": [
    "import scipy.stats as stats\n",
    "\n",
    "result=0\n",
    "n=1\n",
    "while result == 0:\n",
    "    result = stats.binom.ppf(q=1-0.999,n=n,p=0.15)\n",
    "    n+=1\n",
    "print(f\"Minimum loot boxes required at 99.9th percentile: {n}\")"
   ]
  },
  {
   "cell_type": "markdown",
   "metadata": {},
   "source": [
    "#### 3. Our boss asks, \"If a user earns 100 loot boxes, what is the chance that a user gets more than 20 elixirs?\" This is a bit more complicated, so let's break it down before answering."
   ]
  },
  {
   "cell_type": "markdown",
   "metadata": {},
   "source": [
    "#### 3a. Let's suppose my random variable $X$ counts up how many elixirs I observe out of my 100 loot boxes. Why is $X$ a discrete random variable?"
   ]
  },
  {
   "cell_type": "markdown",
   "metadata": {},
   "source": [
    "X takes on finite values within the range [0,100], hence fits the definition of discrete random variable"
   ]
  },
  {
   "cell_type": "markdown",
   "metadata": {},
   "source": [
    "#### 3b. Recall our discrete distributions: discrete uniform, Bernoulli, binomial, Poisson. Let's suppose my random variable $X$ counts up how many elixirs I observe out of my 100 loot boxes. What distribution is best suited for $X$? Why?\n",
    "- Hint: It may help to consider getting the magical elixir a \"success\" and getting nothing a \"failure.\" "
   ]
  },
  {
   "cell_type": "markdown",
   "metadata": {},
   "source": [
    "Binomial distribution. It is a sum of successes of Bernoulli trials."
   ]
  },
  {
   "cell_type": "markdown",
   "metadata": {},
   "source": [
    "#### 3c. Our boss asks, \"If a user earns 100 loot boxes, what is the chance that a user gets more than 20 elixirs?\" Use the probability mass function to answer the boss' question."
   ]
  },
  {
   "cell_type": "code",
   "execution_count": 2,
   "metadata": {},
   "outputs": [
    {
     "name": "stdout",
     "output_type": "stream",
     "text": [
      "Probability is 6.63%\n"
     ]
    }
   ],
   "source": [
    "k=20\n",
    "p=0.15\n",
    "n=100\n",
    "\n",
    "a=sum([stats.binom.pmf(x,n,p) for x in range(k+1,n+1)])\n",
    "\n",
    "print(f\"Probability is {a:.2%}\")"
   ]
  },
  {
   "cell_type": "markdown",
   "metadata": {},
   "source": [
    "#### 3d. Our boss asks, \"If a user earns 100 loot boxes, what is the chance that a user gets more than 20 elixirs?\" Use the cumulative distribution function to answer the boss' question."
   ]
  },
  {
   "cell_type": "code",
   "execution_count": 3,
   "metadata": {},
   "outputs": [
    {
     "name": "stdout",
     "output_type": "stream",
     "text": [
      "Probability is 6.63%\n"
     ]
    }
   ],
   "source": [
    "k=20\n",
    "p=0.15\n",
    "n=100\n",
    "\n",
    "a=1-stats.binom.cdf(k,n,p)\n",
    "\n",
    "print(f\"Probability is {a:.2%}\")"
   ]
  },
  {
   "cell_type": "markdown",
   "metadata": {},
   "source": [
    "#### 3e. Our boss asks, \"If a user earns 100 loot boxes, what is the chance that a user gets more than 20 elixirs?\" Answer your boss' question. *Remember that your boss is not a math-y person!*"
   ]
  },
  {
   "cell_type": "markdown",
   "metadata": {},
   "source": [
    "er... simply 6.63%?"
   ]
  },
  {
   "cell_type": "markdown",
   "metadata": {},
   "source": [
    "#### 4. Your boss wants to know how many people purchased how many loot boxes last month. \n",
    "> For example, last month, 70% of users did not purchase any loot boxes. 10% of people purchased one loot box. 5% of people purchased two loot boxes... and so on.\n",
    "\n",
    "#### 4a. Recall our discrete distributions: discrete uniform, Bernoulli, binomial, Poisson. Let's suppose my random variable $Y$ counts up how many loot boxes each person purchased through the game last month. What distribution is best suited for $Y$? Why?"
   ]
  },
  {
   "cell_type": "markdown",
   "metadata": {},
   "source": [
    "Poisson distribution. The random variable is a probability of event occuring in a fixed interval of time, and is independent."
   ]
  },
  {
   "cell_type": "markdown",
   "metadata": {},
   "source": [
    "#### 4b. Suppose that, on average, your customers purchased 2.7 loot boxes last month. In order for your revenue to be at least $500,000, at least how many users would you need on your platform? (Round your answer up to the nearest thousand.) "
   ]
  },
  {
   "cell_type": "code",
   "execution_count": 4,
   "metadata": {},
   "outputs": [
    {
     "name": "stdout",
     "output_type": "stream",
     "text": [
      "Number of users: 186000\n"
     ]
    }
   ],
   "source": [
    "import math\n",
    "\n",
    "avg_nof_boxes=2.7\n",
    "revenue_per_user=1*avg_nof_boxes\n",
    "revenue_target=500_000\n",
    "nof_user=revenue_target/revenue_per_user\n",
    "\n",
    "#rounds up to 1000\n",
    "nof_user -= nof_user%-1000\n",
    "\n",
    "print(f\"Number of users: {int(nof_user)}\")"
   ]
  },
  {
   "cell_type": "markdown",
   "metadata": {},
   "source": [
    "#### 4c. Assume that your platform has the numer of users you mentioned in your last answer. Suppose that your platform calls anyone who purchases 5 or more loot boxes in a month a \"high value user.\" How much money do you expect to have earned from \"high value users?\" How about \"low value users?\""
   ]
  },
  {
   "cell_type": "code",
   "execution_count": 5,
   "metadata": {},
   "outputs": [
    {
     "name": "stdout",
     "output_type": "stream",
     "text": [
      "High value users: (users=25499) contribute $143582.91\n",
      "Low value users: (users=160501) contribute $358617.09\n"
     ]
    }
   ],
   "source": [
    "nof_high_value_users=sum([stats.poisson.pmf(no_purchased,avg_nof_boxes)*nof_user for no_purchased in range(5,100+1)])\n",
    "nof_low_value_users=sum([stats.poisson.pmf(no_purchased,avg_nof_boxes)*nof_user for no_purchased in range(0,5)])\n",
    "revenue_high_value_users=sum([stats.poisson.pmf(no_purchased,avg_nof_boxes)*nof_user*no_purchased for no_purchased in range(5,100+1)])\n",
    "revenue_low_value_users=sum([stats.poisson.pmf(no_purchased,avg_nof_boxes)*nof_user*no_purchased for no_purchased in range(0,5)])\n",
    "print(f\"High value users: (users={nof_high_value_users:.0f}) contribute ${revenue_high_value_users:.2f}\")\n",
    "print(f\"Low value users: (users={nof_low_value_users:.0f}) contribute ${revenue_low_value_users:.2f}\")"
   ]
  },
  {
   "cell_type": "markdown",
   "metadata": {},
   "source": [
    "#### 4d. Suppose that you want to summarize how many people purchased how many loot boxes last month for your boss. Since your boss isn't math-y, what are 2-4 summary numbers you might use to summarize this for your boss? (Your answers will vary here - use your judgment!)"
   ]
  },
  {
   "cell_type": "markdown",
   "metadata": {},
   "source": [
    "Out of 186k users,<br>\n",
    "Our high value users - 25499 users (13.7% of user base) contributes \\\\$143,583 (28.6% of total revenue)<br>\n",
    "Our low value users - 160501 users (86.3% of user base) contributes \\\\$358,617 (71.4% of total revenue)\n"
   ]
  },
  {
   "cell_type": "markdown",
   "metadata": {},
   "source": [
    "#### 5. Your boss asks \"How many loot boxes does it take before someone gets their first elixir?\" Using `np.random.choice`, simulate how many loot boxes it takes somone to get their first elixir. \n",
    "- Start an empty list.\n",
    "- Use control flow to have someone open loot boxes repeatedly.\n",
    "- Once they open a loot box containing an elixir, record the number of loot boxes it took in the empty list.\n",
    "- Repeat this process 100,000 times. \n",
    "\n",
    "This simulates how long it takes for someone to open a loot box containing elixir. Share the 5th, 25th, 50th, 75th, and 95th percentiles.\n",
    "\n",
    "> You may find [this documentation](https://docs.scipy.org/doc/numpy/reference/generated/numpy.random.choice.html)  and [this documentation](https://docs.scipy.org/doc/numpy/reference/generated/numpy.percentile.html) helpful."
   ]
  },
  {
   "cell_type": "raw",
   "metadata": {},
   "source": [
    "#This code is single threaded\n",
    "import numpy as np\n",
    "from tqdm.notebook import tqdm\n",
    "\n",
    "n_trials=100_000\n",
    "options=[1,0]\n",
    "options_proba=[0.15,0.85]\n",
    "\n",
    "first_loot_box=[]\n",
    "for _ in tqdm(range(n_trials)):\n",
    "    counter=0\n",
    "    while True:\n",
    "        counter+=1\n",
    "        pick=np.random.choice(a=options,p=options_proba)\n",
    "        if pick==1:\n",
    "            first_loot_box.append(counter)\n",
    "            break\n",
    "\n",
    "percentiles=[5,25,50,75,95]\n",
    "for q in percentiles:\n",
    "    print(f\"{q}th percentile: {np.percentile(first_loot_box,q)}\")"
   ]
  },
  {
   "cell_type": "raw",
   "metadata": {},
   "source": [
    "!pip install joblib tqdm"
   ]
  },
  {
   "cell_type": "code",
   "execution_count": 6,
   "metadata": {},
   "outputs": [
    {
     "data": {
      "application/vnd.jupyter.widget-view+json": {
       "model_id": "a667aeb60a41480696a1c8e690fc60d8",
       "version_major": 2,
       "version_minor": 0
      },
      "text/plain": [
       "  0%|          | 0/100000 [00:00<?, ?it/s]"
      ]
     },
     "metadata": {},
     "output_type": "display_data"
    },
    {
     "name": "stdout",
     "output_type": "stream",
     "text": [
      "5th percentile: 1.0\n",
      "25th percentile: 2.0\n",
      "50th percentile: 5.0\n",
      "75th percentile: 9.0\n",
      "95th percentile: 19.0\n"
     ]
    }
   ],
   "source": [
    "#This code uses Parallel() multiprocessing\n",
    "#Change the above markdown cell to code and run, if your system does not have joblib or tqdm installed.\n",
    "import numpy as np\n",
    "from tqdm.notebook import tqdm\n",
    "from joblib import Parallel,delayed\n",
    "\n",
    "n_trials=100_000\n",
    "options=[1,0]\n",
    "options_proba=[0.15,0.85]\n",
    "\n",
    "first_loot_box=[]\n",
    "\n",
    "def trial_loot_box():\n",
    "    counter=0\n",
    "    #loop until elixir is obtained and loop is broken.\n",
    "    while True:\n",
    "        counter+=1\n",
    "        \n",
    "        #make random pick\n",
    "        pick=np.random.choice(a=options,p=options_proba)\n",
    "        \n",
    "        #if the elixir is chosen, then add the trial number to list.\n",
    "        if pick==1:\n",
    "            first_loot_box.append(counter)\n",
    "            return counter\n",
    "\n",
    "#run code in parallel, using all cores. Combined with tqdm() for nice progress bar.\n",
    "first_loot_box=Parallel(n_jobs=-1)(delayed(trial_loot_box)() for _ in tqdm(range(n_trials)))\n",
    "    \n",
    "\n",
    "percentiles=[5,25,50,75,95]\n",
    "for q in percentiles:\n",
    "    print(f\"{q}th percentile: {np.percentile(first_loot_box,q)}\")"
   ]
  },
  {
   "cell_type": "markdown",
   "metadata": {},
   "source": [
    "5th percentile: 1.0<br>\n",
    "25th percentile: 2.0<br>\n",
    "50th percentile: 5.0<br>\n",
    "75th percentile: 9.0<br>\n",
    "95th percentile: 19.0"
   ]
  },
  {
   "cell_type": "markdown",
   "metadata": {},
   "source": [
    "### Version 2\n",
    "\n",
    "After a substantial update to the game, suppose every loot box can be opened to reveal *one of four different* items:\n",
    "- magical elixir (occurs 1% of the time, most valuable)\n",
    "- golden pendant (occurs 9% of the time, valuable)\n",
    "- steel armor (occurs 30% of the time, semi-valuable)\n",
    "- bronze coin (occurs 60% of the time, least valuable)"
   ]
  },
  {
   "cell_type": "markdown",
   "metadata": {},
   "source": [
    "#### 6. Suppose you want repeat problem 5 above, but do that for the version 2 loot boxes so you can track how many loot boxes are needed to get each item? (e.g. You'd like to be able to say that on average it takes 10 trials to get a golden pendant, 3 trials to get steel armor, and so on.) What Python datatype is the best way to store this data? Why?"
   ]
  },
  {
   "cell_type": "markdown",
   "metadata": {},
   "source": [
    "There are 2 ways to store this data, depending on the method of execution.\n",
    "\n",
    "<u>Multi Processing</u><br>\n",
    "A list of lists would fit.<br>\n",
    "A master list with dimension m, where m=number of trials.<br>\n",
    "Each trial is recorded as a list with dimension n, where n=number of features to track.<br>\n",
    "<br>\n",
    "This approach is faster as it uses multi CPU cores but ends up with a nested list which needs some dealing with later.<br><br>\n",
    "<u>Single/Multi Threading</u><br>\n",
    "A list of counters for each item<br>\n",
    "The size of the list will be n, where n=number of features to track.<br>\n",
    "<br>\n",
    "This approach results in a simpler output but <i>Threading</i> is inherently slower than <i>Multi Processing</i>.<br>\n",
    "As this code is CPU-bound and not IO-bound, boosting threads will do no benefit.<br>\n",
    "We note that Multi Threading performs slower than Single Threading as Multi Threading adds overhead.<br>\n",
    "Multi Threading also presents the problem of race condition and handling thread locks takes up CPU time."
   ]
  },
  {
   "cell_type": "markdown",
   "metadata": {},
   "source": [
    "<b>Will implement 3 different codes just for the sake of doing it.</b>"
   ]
  },
  {
   "cell_type": "markdown",
   "metadata": {},
   "source": [
    "<u>Multi Processing</u>"
   ]
  },
  {
   "cell_type": "code",
   "execution_count": 62,
   "metadata": {},
   "outputs": [],
   "source": [
    "#This code is based on Multi Processing\n",
    "import numpy as np\n",
    "from tqdm.notebook import tqdm\n",
    "from joblib import Parallel,delayed\n",
    "\n",
    "#0=elixir, 1=golden, 2=steel, 3=bronze\n",
    "n_trials=100_000\n",
    "options=[0,1,2,3]\n",
    "options_name=[\"magical elixir\",\"golden pendant\",\"steel armor\",\"bronze coin\"]\n",
    "options_proba=[0.01,0.09,0.3,0.6]\n",
    "\n",
    "def trial_loot_box():\n",
    "    pick=np.random.choice(a=options,p=options_proba)\n",
    "    #create a list of 1 or 0, depending if that item is obtained or not.\n",
    "    result=[1 if i==pick else 0 for i in options]\n",
    "    return result"
   ]
  },
  {
   "cell_type": "code",
   "execution_count": 63,
   "metadata": {},
   "outputs": [
    {
     "data": {
      "application/vnd.jupyter.widget-view+json": {
       "model_id": "b1ad8cc348194c179a27ffee5afba23f",
       "version_major": 2,
       "version_minor": 0
      },
      "text/plain": [
       "  0%|          | 0/100000 [00:00<?, ?it/s]"
      ]
     },
     "metadata": {},
     "output_type": "display_data"
    },
    {
     "data": {
      "application/vnd.jupyter.widget-view+json": {
       "model_id": "8cb709813c3648539190898cdaee9a8f",
       "version_major": 2,
       "version_minor": 0
      },
      "text/plain": [
       "  0%|          | 0/100000 [00:00<?, ?it/s]"
      ]
     },
     "metadata": {},
     "output_type": "display_data"
    },
    {
     "data": {
      "application/vnd.jupyter.widget-view+json": {
       "model_id": "767c1fa1e3764a409ff346b976f1247a",
       "version_major": 2,
       "version_minor": 0
      },
      "text/plain": [
       "  0%|          | 0/100000 [00:00<?, ?it/s]"
      ]
     },
     "metadata": {},
     "output_type": "display_data"
    },
    {
     "data": {
      "application/vnd.jupyter.widget-view+json": {
       "model_id": "5797f9995308459f867582d1af2c2ba4",
       "version_major": 2,
       "version_minor": 0
      },
      "text/plain": [
       "  0%|          | 0/100000 [00:00<?, ?it/s]"
      ]
     },
     "metadata": {},
     "output_type": "display_data"
    },
    {
     "data": {
      "application/vnd.jupyter.widget-view+json": {
       "model_id": "69e19c2e1d46412cbdc806029f45ce46",
       "version_major": 2,
       "version_minor": 0
      },
      "text/plain": [
       "  0%|          | 0/100000 [00:00<?, ?it/s]"
      ]
     },
     "metadata": {},
     "output_type": "display_data"
    },
    {
     "data": {
      "application/vnd.jupyter.widget-view+json": {
       "model_id": "4dd913e11faa47f6ad9de53c55da6c00",
       "version_major": 2,
       "version_minor": 0
      },
      "text/plain": [
       "  0%|          | 0/100000 [00:00<?, ?it/s]"
      ]
     },
     "metadata": {},
     "output_type": "display_data"
    },
    {
     "data": {
      "application/vnd.jupyter.widget-view+json": {
       "model_id": "5a37e1e65eb840db8c3be4bdd8bac09d",
       "version_major": 2,
       "version_minor": 0
      },
      "text/plain": [
       "  0%|          | 0/100000 [00:00<?, ?it/s]"
      ]
     },
     "metadata": {},
     "output_type": "display_data"
    },
    {
     "data": {
      "application/vnd.jupyter.widget-view+json": {
       "model_id": "7792da43904a43a5ba819e81f5ce1e4b",
       "version_major": 2,
       "version_minor": 0
      },
      "text/plain": [
       "  0%|          | 0/100000 [00:00<?, ?it/s]"
      ]
     },
     "metadata": {},
     "output_type": "display_data"
    },
    {
     "name": "stdout",
     "output_type": "stream",
     "text": [
      "1.09 s ± 10.5 ms per loop (mean ± std. dev. of 7 runs, 1 loop each)\n"
     ]
    }
   ],
   "source": [
    "%%timeit\n",
    "#code will run 7 times just to get average results\n",
    "#run code in parallel, using all cores. Combined with tqdm() for nice progress bar.\n",
    "loot_box_distribution=Parallel(n_jobs=-1)(delayed(trial_loot_box)() for _ in tqdm(range(n_trials)))"
   ]
  },
  {
   "cell_type": "code",
   "execution_count": 64,
   "metadata": {},
   "outputs": [
    {
     "name": "stdout",
     "output_type": "stream",
     "text": [
      "Average boxes required to obtain magical elixir: 100.4\n",
      "Average boxes required to obtain golden pendant: 11.1\n",
      "Average boxes required to obtain steel armor: 3.3\n",
      "Average boxes required to obtain bronze coin: 1.7\n"
     ]
    }
   ],
   "source": [
    "#convert to numpy array for easier manipulation below\n",
    "loot_box_distribution=np.array(loot_box_distribution)\n",
    "\n",
    "#avg number of boxes required\n",
    "# = 1/p \n",
    "# = 1/(number of that item obtained/total number of trials)\n",
    "# = total number of trials/number of that item obtained\n",
    "avg_number_req=list(n_trials/np.sum(loot_box_distribution,axis=0))\n",
    "\n",
    "#pair the results across 2 lists and print the results\n",
    "for (item,count) in zip(options_name,avg_number_req):\n",
    "    print(f\"Average boxes required to obtain {item}: {count:.1f}\")"
   ]
  },
  {
   "cell_type": "markdown",
   "metadata": {},
   "source": [
    "<u>Multi Threading</u>"
   ]
  },
  {
   "cell_type": "code",
   "execution_count": 56,
   "metadata": {},
   "outputs": [],
   "source": [
    "#This code is based on Multi Threading\n",
    "import numpy as np\n",
    "from tqdm.notebook import tqdm\n",
    "from joblib import Parallel,delayed\n",
    "from threading import Lock\n",
    "import threading\n",
    "\n",
    "#0=elixir, 1=golden, 2=steel, 3=bronze\n",
    "n_trials=100_000\n",
    "options=[0,1,2,3]\n",
    "options_name=[\"magical elixir\",\"golden pendant\",\"steel armor\",\"bronze coin\"]\n",
    "options_proba=[0.01,0.09,0.3,0.6]\n",
    "results=[0,0,0,0]\n",
    "\n",
    "#initiate Lock object to prevent race condition caused by Python Global Interpreter Lock\n",
    "lock=Lock()\n",
    "\n",
    "def trial_loot_box():    \n",
    "    pick=np.random.choice(a=options,p=options_proba)\n",
    "    lock.acquire()\n",
    "    results[pick]+=1\n",
    "    lock.release()"
   ]
  },
  {
   "cell_type": "code",
   "execution_count": 57,
   "metadata": {},
   "outputs": [
    {
     "data": {
      "application/vnd.jupyter.widget-view+json": {
       "model_id": "c03767569c654bf494db14de13cf41e1",
       "version_major": 2,
       "version_minor": 0
      },
      "text/plain": [
       "  0%|          | 0/100000 [00:00<?, ?it/s]"
      ]
     },
     "metadata": {},
     "output_type": "display_data"
    },
    {
     "data": {
      "application/vnd.jupyter.widget-view+json": {
       "model_id": "6fad7b370c7c4af9b62ecdc188abe8aa",
       "version_major": 2,
       "version_minor": 0
      },
      "text/plain": [
       "  0%|          | 0/100000 [00:00<?, ?it/s]"
      ]
     },
     "metadata": {},
     "output_type": "display_data"
    },
    {
     "data": {
      "application/vnd.jupyter.widget-view+json": {
       "model_id": "b68515797aa34743a6b2c39fbfe36f82",
       "version_major": 2,
       "version_minor": 0
      },
      "text/plain": [
       "  0%|          | 0/100000 [00:00<?, ?it/s]"
      ]
     },
     "metadata": {},
     "output_type": "display_data"
    },
    {
     "data": {
      "application/vnd.jupyter.widget-view+json": {
       "model_id": "7d1786332a22428cb0be6c5b22268db4",
       "version_major": 2,
       "version_minor": 0
      },
      "text/plain": [
       "  0%|          | 0/100000 [00:00<?, ?it/s]"
      ]
     },
     "metadata": {},
     "output_type": "display_data"
    },
    {
     "data": {
      "application/vnd.jupyter.widget-view+json": {
       "model_id": "d447cd02774641318d71ab9c880819dc",
       "version_major": 2,
       "version_minor": 0
      },
      "text/plain": [
       "  0%|          | 0/100000 [00:00<?, ?it/s]"
      ]
     },
     "metadata": {},
     "output_type": "display_data"
    },
    {
     "data": {
      "application/vnd.jupyter.widget-view+json": {
       "model_id": "0a505759dc37471aa7f6b139b02b0bc7",
       "version_major": 2,
       "version_minor": 0
      },
      "text/plain": [
       "  0%|          | 0/100000 [00:00<?, ?it/s]"
      ]
     },
     "metadata": {},
     "output_type": "display_data"
    },
    {
     "data": {
      "application/vnd.jupyter.widget-view+json": {
       "model_id": "4497ae7a6a09471f9d540dedf97c51c0",
       "version_major": 2,
       "version_minor": 0
      },
      "text/plain": [
       "  0%|          | 0/100000 [00:00<?, ?it/s]"
      ]
     },
     "metadata": {},
     "output_type": "display_data"
    },
    {
     "data": {
      "application/vnd.jupyter.widget-view+json": {
       "model_id": "abb83e7e46e8400aab02bc545b589e8a",
       "version_major": 2,
       "version_minor": 0
      },
      "text/plain": [
       "  0%|          | 0/100000 [00:00<?, ?it/s]"
      ]
     },
     "metadata": {},
     "output_type": "display_data"
    },
    {
     "name": "stdout",
     "output_type": "stream",
     "text": [
      "12.9 s ± 452 ms per loop (mean ± std. dev. of 7 runs, 1 loop each)\n"
     ]
    }
   ],
   "source": [
    "%%timeit\n",
    "#code will run 7 times just to get average results\n",
    "#run code in parallel, using all cores. Combined with tqdm() for nice progress bar.\n",
    "Parallel(n_jobs=-1,prefer=\"threads\")(delayed(trial_loot_box)() for _ in tqdm(range(n_trials)))"
   ]
  },
  {
   "cell_type": "code",
   "execution_count": 58,
   "metadata": {},
   "outputs": [
    {
     "name": "stdout",
     "output_type": "stream",
     "text": [
      "Average boxes required to obtain magical elixir: 12.5\n",
      "Average boxes required to obtain golden pendant: 1.4\n",
      "Average boxes required to obtain steel armor: 0.4\n",
      "Average boxes required to obtain bronze coin: 0.2\n"
     ]
    }
   ],
   "source": [
    "# pair the results across 2 lists and print the results\n",
    "for (item,count) in zip(options_name,results):\n",
    "    print(f\"Average boxes required to obtain {item}: {n_trials/count:.1f}\")"
   ]
  },
  {
   "cell_type": "markdown",
   "metadata": {},
   "source": [
    "<u>Single Threading</u>"
   ]
  },
  {
   "cell_type": "code",
   "execution_count": 59,
   "metadata": {},
   "outputs": [],
   "source": [
    "#This code is based on single threading\n",
    "import numpy as np\n",
    "from tqdm.notebook import tqdm\n",
    "from joblib import Parallel,delayed\n",
    "# from threading import Lock\n",
    "\n",
    "#0=elixir, 1=golden, 2=steel, 3=bronze\n",
    "n_trials=100_000\n",
    "options=[0,1,2,3]\n",
    "options_name=[\"magical elixir\",\"golden pendant\",\"steel armor\",\"bronze coin\"]\n",
    "options_proba=[0.01,0.09,0.3,0.6]\n",
    "results=[0,0,0,0]\n",
    "\n",
    "def trial_loot_box():\n",
    "    pick=np.random.choice(a=options,p=options_proba)\n",
    "    results[pick]+=1"
   ]
  },
  {
   "cell_type": "code",
   "execution_count": 60,
   "metadata": {},
   "outputs": [
    {
     "data": {
      "application/vnd.jupyter.widget-view+json": {
       "model_id": "124a2974cdfc4263bd8a0777b6d9b3f0",
       "version_major": 2,
       "version_minor": 0
      },
      "text/plain": [
       "  0%|          | 0/100000 [00:00<?, ?it/s]"
      ]
     },
     "metadata": {},
     "output_type": "display_data"
    },
    {
     "data": {
      "application/vnd.jupyter.widget-view+json": {
       "model_id": "3972faa2f19449fb921fa4ec4a6c7926",
       "version_major": 2,
       "version_minor": 0
      },
      "text/plain": [
       "  0%|          | 0/100000 [00:00<?, ?it/s]"
      ]
     },
     "metadata": {},
     "output_type": "display_data"
    },
    {
     "data": {
      "application/vnd.jupyter.widget-view+json": {
       "model_id": "9a7826e0ee8a4fcbb8942e774034f03a",
       "version_major": 2,
       "version_minor": 0
      },
      "text/plain": [
       "  0%|          | 0/100000 [00:00<?, ?it/s]"
      ]
     },
     "metadata": {},
     "output_type": "display_data"
    },
    {
     "data": {
      "application/vnd.jupyter.widget-view+json": {
       "model_id": "f56cf1d53b3d41b38038bd7501f434b9",
       "version_major": 2,
       "version_minor": 0
      },
      "text/plain": [
       "  0%|          | 0/100000 [00:00<?, ?it/s]"
      ]
     },
     "metadata": {},
     "output_type": "display_data"
    },
    {
     "data": {
      "application/vnd.jupyter.widget-view+json": {
       "model_id": "d6790b6c11fa47978201916932ec0f99",
       "version_major": 2,
       "version_minor": 0
      },
      "text/plain": [
       "  0%|          | 0/100000 [00:00<?, ?it/s]"
      ]
     },
     "metadata": {},
     "output_type": "display_data"
    },
    {
     "data": {
      "application/vnd.jupyter.widget-view+json": {
       "model_id": "f47516054cc94caeaae016f86aad5286",
       "version_major": 2,
       "version_minor": 0
      },
      "text/plain": [
       "  0%|          | 0/100000 [00:00<?, ?it/s]"
      ]
     },
     "metadata": {},
     "output_type": "display_data"
    },
    {
     "data": {
      "application/vnd.jupyter.widget-view+json": {
       "model_id": "52840dc5149d4c89a842eb46b651ac21",
       "version_major": 2,
       "version_minor": 0
      },
      "text/plain": [
       "  0%|          | 0/100000 [00:00<?, ?it/s]"
      ]
     },
     "metadata": {},
     "output_type": "display_data"
    },
    {
     "data": {
      "application/vnd.jupyter.widget-view+json": {
       "model_id": "79365bdcef7f451cb2a0b1d0542df1a9",
       "version_major": 2,
       "version_minor": 0
      },
      "text/plain": [
       "  0%|          | 0/100000 [00:00<?, ?it/s]"
      ]
     },
     "metadata": {},
     "output_type": "display_data"
    },
    {
     "name": "stdout",
     "output_type": "stream",
     "text": [
      "3.52 s ± 11.2 ms per loop (mean ± std. dev. of 7 runs, 1 loop each)\n"
     ]
    }
   ],
   "source": [
    "%%timeit\n",
    "#code will run 7 times just to get average results\n",
    "for _ in tqdm(range(n_trials)):\n",
    "    trial_loot_box()"
   ]
  },
  {
   "cell_type": "code",
   "execution_count": 61,
   "metadata": {},
   "outputs": [
    {
     "name": "stdout",
     "output_type": "stream",
     "text": [
      "Average boxes required to obtain magical elixir: 12.6\n",
      "Average boxes required to obtain golden pendant: 1.4\n",
      "Average boxes required to obtain steel armor: 0.4\n",
      "Average boxes required to obtain bronze coin: 0.2\n"
     ]
    }
   ],
   "source": [
    "# pair the results across 2 lists and print the results\n",
    "for (item,count) in zip(options_name,results):\n",
    "    print(f\"Average boxes required to obtain {item}: {n_trials/count:.1f}\")"
   ]
  },
  {
   "cell_type": "markdown",
   "metadata": {},
   "source": [
    "<b>Note that the results from the monte-carlo trails follow 1/p from the problem description above.</b><br>\n",
    "<b>Also note that Multi Processing is about 3x faster than Single Threading, which is in turn 3.5x faster than Multi Threading</b>"
   ]
  },
  {
   "cell_type": "markdown",
   "metadata": {},
   "source": [
    "#### 7. Suppose you and your boss want to measure whether \"Version 2\" is better than \"Version 1.\" What metrics do you think are important to measure? (Your answers will vary here - use your judgment!)"
   ]
  },
  {
   "cell_type": "markdown",
   "metadata": {},
   "source": [
    "2 primary metrics are important to games in general.<br>\n",
    "\\#1 Revenue generated directly from loot boxes<br>\n",
    "\\#2 Monthly active users<br><br>\n",
    "These metrics directly and indirectly impact the bottom line of a company.<br>\n",
    "Directly through sales of in-game items, and indirectly through game-time affecting ads revenue."
   ]
  }
 ],
 "metadata": {
  "kernelspec": {
   "display_name": "Python 3 (ipykernel)",
   "language": "python",
   "name": "python3"
  },
  "language_info": {
   "codemirror_mode": {
    "name": "ipython",
    "version": 3
   },
   "file_extension": ".py",
   "mimetype": "text/x-python",
   "name": "python",
   "nbconvert_exporter": "python",
   "pygments_lexer": "ipython3",
   "version": "3.9.12"
  }
 },
 "nbformat": 4,
 "nbformat_minor": 2
}
